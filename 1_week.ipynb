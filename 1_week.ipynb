{
  "nbformat": 4,
  "nbformat_minor": 0,
  "metadata": {
    "colab": {
      "name": "Untitled0.ipynb",
      "provenance": [],
      "collapsed_sections": [],
      "authorship_tag": "ABX9TyPuNkIBrjh64ZhlkxsKemY1",
      "include_colab_link": true
    },
    "kernelspec": {
      "name": "python3",
      "display_name": "Python 3"
    }
  },
  "cells": [
    {
      "cell_type": "markdown",
      "metadata": {
        "id": "view-in-github",
        "colab_type": "text"
      },
      "source": [
        "<a href=\"https://colab.research.google.com/github/CitrusSoda/AI-Academy/blob/master/1_week.ipynb\" target=\"_parent\"><img src=\"https://colab.research.google.com/assets/colab-badge.svg\" alt=\"Open In Colab\"/></a>"
      ]
    },
    {
      "cell_type": "markdown",
      "metadata": {
        "id": "Q638rnPk9EQ4",
        "colab_type": "text"
      },
      "source": [
        "## **1주차 과제**\n",
        "![1주차](https://img.shields.io/badge/AI--Academy-1_week-ff69b4)\n",
        "```\n",
        "언어, 음성, 이미지, 자율주행 분야에서 인공지능이 사용된 제품 및 서비스\n",
        "```\n",
        "* * *\n",
        "### **음성을 이용한 인공지능 작곡 주크덱**\n",
        "![주크덱](https://spnimage.edaily.co.kr/images/Photo/files/NP/S/2018/02/PS18022700198.jpg)\n",
        "\n",
        "장르, 분위기, 악기, 템포만 선택하면 사람들이 좋아하는 노래의 형태를 기반하여 인공지능을 이용해 30초만 기다리면 저작권 없이 음악을 만들 수 있다.\n",
        "\n",
        "현재는 동영상 플랫폼 틱톡에 인수되어 사용중이다.\n",
        "* * *\n",
        "### **자율주행으로 편하게 해주는 테슬라 오토파일럿**\n",
        "![테슬라](https://www.thegear.kr/news/photo/old/imgdata/thegear_co_kr/201610/2016101752293661.jpg)\n",
        "\n",
        "2천만마일 정도의 경로를 축척하고 자동차에도 데이터를 저장할 수 있게 만들어 딥러닝을 이용한 오토파일럿이다.\n",
        "\n",
        "2020녀 2월 기준으로 30억마일의 데이터가 모아졌으며 오토파일럿은 부분적으로 자율운행을 해주지만 이를 넘어 완전 자율 주행 자동차까지 준비하고 있다고 한다.\n",
        "* * *\n",
        "* **언어에 인공지능을 적용한 국내 1위 통번역 서비스 파파고**\n",
        "![파파고](https://newsimg.hankookilbo.com/2018/04/27/201804271786835625_1.jpg)\n",
        "\n",
        "네이버에서 인공 신경망을 이용하여 만든 번역기 이다.\n",
        "텍스트 번역 뿐만 아니라 OCR을 이용하여 이미지번역, 음성을 이용한 push to talk등 다양하게 번역을 하게 해준다.\n",
        "* * *\n",
        "* **이미지를 이용하여 불건전한 컨텐츠, 텍스트 추출, 탐지등 다양한 역할을 하는 Vision API**\n",
        "![대체 텍스트](https://image.slidesharecdn.com/wtm2017-keynote-190423015139/95/google-cloud-vision-api-mobile-vision-22-638.jpg?cb=1555984487)\n",
        "\n",
        "구글에서 머신러닝을 이용하여 이미지를 분석해주는 기술로 사물 탐지, 로고탐지, OCR을 이용한 텍스트 추출, 얼굴을 통하여 표정 탐지, 유사이미지 검색, 불건전한 이미지 탐색등 정말 다양한 기술을 제공하는 API이다.\n",
        "\n"
      ]
    }
  ]
}